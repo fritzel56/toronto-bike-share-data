{
 "cells": [
  {
   "cell_type": "markdown",
   "metadata": {},
   "source": [
    "Basic goal is to effectively tie all quarters for 2017 together and take a basic look at the data."
   ]
  },
  {
   "cell_type": "code",
   "execution_count": 1,
   "metadata": {},
   "outputs": [],
   "source": [
    "%matplotlib inline\n",
    "import pandas as pd\n",
    "import os\n",
    "import numpy as np"
   ]
  },
  {
   "cell_type": "code",
   "execution_count": 2,
   "metadata": {},
   "outputs": [],
   "source": [
    "data_folder = os.getenv('bike_data_folder')"
   ]
  },
  {
   "cell_type": "code",
   "execution_count": 3,
   "metadata": {},
   "outputs": [],
   "source": [
    "q1_2017 = pd.read_csv(data_folder+'/bikeshare_ridership_2017_Q1.csv')\n",
    "q2_2017 = pd.read_csv(data_folder+'/bikeshare_ridership_2017_Q2.csv')\n",
    "q3_2017 = pd.read_csv(data_folder+'/bikeshare_ridership_2017_Q3.csv')\n",
    "q4_2017 = pd.read_csv(data_folder+'/bikeshare_ridership_2017_Q4.csv')"
   ]
  },
  {
   "cell_type": "code",
   "execution_count": 4,
   "metadata": {},
   "outputs": [
    {
     "data": {
      "text/html": [
       "<div>\n",
       "<style scoped>\n",
       "    .dataframe tbody tr th:only-of-type {\n",
       "        vertical-align: middle;\n",
       "    }\n",
       "\n",
       "    .dataframe tbody tr th {\n",
       "        vertical-align: top;\n",
       "    }\n",
       "\n",
       "    .dataframe thead th {\n",
       "        text-align: right;\n",
       "    }\n",
       "</style>\n",
       "<table border=\"1\" class=\"dataframe\">\n",
       "  <thead>\n",
       "    <tr style=\"text-align: right;\">\n",
       "      <th></th>\n",
       "      <th>trip_id</th>\n",
       "      <th>trip_start_time</th>\n",
       "      <th>trip_stop_time</th>\n",
       "      <th>trip_duration_seconds</th>\n",
       "      <th>from_station_id</th>\n",
       "      <th>from_station_name</th>\n",
       "      <th>to_station_id</th>\n",
       "      <th>to_station_name</th>\n",
       "      <th>user_type</th>\n",
       "    </tr>\n",
       "  </thead>\n",
       "  <tbody>\n",
       "    <tr>\n",
       "      <td>132120</td>\n",
       "      <td>868662</td>\n",
       "      <td>31/03/2017 23:49</td>\n",
       "      <td>31/03/2017 23:57</td>\n",
       "      <td>442</td>\n",
       "      <td>7006</td>\n",
       "      <td>Bay St / College St (East Side)</td>\n",
       "      <td>7066</td>\n",
       "      <td>Willcocks St / St. George St</td>\n",
       "      <td>Member</td>\n",
       "    </tr>\n",
       "    <tr>\n",
       "      <td>132121</td>\n",
       "      <td>868663</td>\n",
       "      <td>31/03/2017 23:52</td>\n",
       "      <td>1/4/2017 0:10</td>\n",
       "      <td>1116</td>\n",
       "      <td>7057</td>\n",
       "      <td>Simcoe St / Wellington St W</td>\n",
       "      <td>7023</td>\n",
       "      <td>College St W / Borden St</td>\n",
       "      <td>Member</td>\n",
       "    </tr>\n",
       "    <tr>\n",
       "      <td>132122</td>\n",
       "      <td>868664</td>\n",
       "      <td>31/03/2017 23:54</td>\n",
       "      <td>31/03/2017 23:56</td>\n",
       "      <td>155</td>\n",
       "      <td>7014</td>\n",
       "      <td>Sherbourne St / Carlton St (Allan Gardens)</td>\n",
       "      <td>7113</td>\n",
       "      <td>Parliament St / Aberdeen Ave</td>\n",
       "      <td>Member</td>\n",
       "    </tr>\n",
       "  </tbody>\n",
       "</table>\n",
       "</div>"
      ],
      "text/plain": [
       "        trip_id   trip_start_time    trip_stop_time  trip_duration_seconds  \\\n",
       "132120   868662  31/03/2017 23:49  31/03/2017 23:57                    442   \n",
       "132121   868663  31/03/2017 23:52     1/4/2017 0:10                   1116   \n",
       "132122   868664  31/03/2017 23:54  31/03/2017 23:56                    155   \n",
       "\n",
       "        from_station_id                           from_station_name  \\\n",
       "132120             7006             Bay St / College St (East Side)   \n",
       "132121             7057                 Simcoe St / Wellington St W   \n",
       "132122             7014  Sherbourne St / Carlton St (Allan Gardens)   \n",
       "\n",
       "        to_station_id               to_station_name user_type  \n",
       "132120           7066  Willcocks St / St. George St    Member  \n",
       "132121           7023      College St W / Borden St    Member  \n",
       "132122           7113  Parliament St / Aberdeen Ave    Member  "
      ]
     },
     "execution_count": 4,
     "metadata": {},
     "output_type": "execute_result"
    }
   ],
   "source": [
    "q1_2017.tail(3)"
   ]
  },
  {
   "cell_type": "code",
   "execution_count": 5,
   "metadata": {},
   "outputs": [
    {
     "data": {
      "text/html": [
       "<div>\n",
       "<style scoped>\n",
       "    .dataframe tbody tr th:only-of-type {\n",
       "        vertical-align: middle;\n",
       "    }\n",
       "\n",
       "    .dataframe tbody tr th {\n",
       "        vertical-align: top;\n",
       "    }\n",
       "\n",
       "    .dataframe thead th {\n",
       "        text-align: right;\n",
       "    }\n",
       "</style>\n",
       "<table border=\"1\" class=\"dataframe\">\n",
       "  <thead>\n",
       "    <tr style=\"text-align: right;\">\n",
       "      <th></th>\n",
       "      <th>trip_id</th>\n",
       "      <th>trip_start_time</th>\n",
       "      <th>trip_stop_time</th>\n",
       "      <th>trip_duration_seconds</th>\n",
       "      <th>from_station_id</th>\n",
       "      <th>from_station_name</th>\n",
       "      <th>to_station_id</th>\n",
       "      <th>to_station_name</th>\n",
       "      <th>user_type</th>\n",
       "    </tr>\n",
       "  </thead>\n",
       "  <tbody>\n",
       "    <tr>\n",
       "      <td>333350</td>\n",
       "      <td>1253141</td>\n",
       "      <td>30/06/2017 23:59</td>\n",
       "      <td>1/7/2017 0:03</td>\n",
       "      <td>227</td>\n",
       "      <td>7049</td>\n",
       "      <td>Queen St W / Portland St</td>\n",
       "      <td>7046</td>\n",
       "      <td>Niagara St / Richmond St W</td>\n",
       "      <td>Member</td>\n",
       "    </tr>\n",
       "    <tr>\n",
       "      <td>333351</td>\n",
       "      <td>1253142</td>\n",
       "      <td>30/06/2017 23:59</td>\n",
       "      <td>1/7/2017 0:34</td>\n",
       "      <td>2067</td>\n",
       "      <td>7199</td>\n",
       "      <td>College St W / Markham St</td>\n",
       "      <td>7043</td>\n",
       "      <td>Queens Quay W / Lower Simcoe St</td>\n",
       "      <td>Casual</td>\n",
       "    </tr>\n",
       "    <tr>\n",
       "      <td>333352</td>\n",
       "      <td>1253144</td>\n",
       "      <td>30/06/2017 23:59</td>\n",
       "      <td>1/7/2017 0:26</td>\n",
       "      <td>1623</td>\n",
       "      <td>7006</td>\n",
       "      <td>Bay St / College St (East Side)</td>\n",
       "      <td>7093</td>\n",
       "      <td>Danforth Ave / Gough Ave</td>\n",
       "      <td>Member</td>\n",
       "    </tr>\n",
       "  </tbody>\n",
       "</table>\n",
       "</div>"
      ],
      "text/plain": [
       "        trip_id   trip_start_time trip_stop_time  trip_duration_seconds  \\\n",
       "333350  1253141  30/06/2017 23:59  1/7/2017 0:03                    227   \n",
       "333351  1253142  30/06/2017 23:59  1/7/2017 0:34                   2067   \n",
       "333352  1253144  30/06/2017 23:59  1/7/2017 0:26                   1623   \n",
       "\n",
       "        from_station_id                from_station_name  to_station_id  \\\n",
       "333350             7049         Queen St W / Portland St           7046   \n",
       "333351             7199        College St W / Markham St           7043   \n",
       "333352             7006  Bay St / College St (East Side)           7093   \n",
       "\n",
       "                        to_station_name user_type  \n",
       "333350       Niagara St / Richmond St W    Member  \n",
       "333351  Queens Quay W / Lower Simcoe St    Casual  \n",
       "333352         Danforth Ave / Gough Ave    Member  "
      ]
     },
     "execution_count": 5,
     "metadata": {},
     "output_type": "execute_result"
    }
   ],
   "source": [
    "q2_2017.tail(3)"
   ]
  },
  {
   "cell_type": "code",
   "execution_count": 6,
   "metadata": {},
   "outputs": [
    {
     "data": {
      "text/html": [
       "<div>\n",
       "<style scoped>\n",
       "    .dataframe tbody tr th:only-of-type {\n",
       "        vertical-align: middle;\n",
       "    }\n",
       "\n",
       "    .dataframe tbody tr th {\n",
       "        vertical-align: top;\n",
       "    }\n",
       "\n",
       "    .dataframe thead th {\n",
       "        text-align: right;\n",
       "    }\n",
       "</style>\n",
       "<table border=\"1\" class=\"dataframe\">\n",
       "  <thead>\n",
       "    <tr style=\"text-align: right;\">\n",
       "      <th></th>\n",
       "      <th>trip_id</th>\n",
       "      <th>trip_start_time</th>\n",
       "      <th>trip_stop_time</th>\n",
       "      <th>trip_duration_seconds</th>\n",
       "      <th>from_station_name</th>\n",
       "      <th>to_station_name</th>\n",
       "      <th>user_type</th>\n",
       "    </tr>\n",
       "  </thead>\n",
       "  <tbody>\n",
       "    <tr>\n",
       "      <td>663485</td>\n",
       "      <td>1971682</td>\n",
       "      <td>9/30/2017 23:59</td>\n",
       "      <td>10/1/2017 0:18</td>\n",
       "      <td>1114</td>\n",
       "      <td>Baldwin Ave / Spadina Ave - SMART</td>\n",
       "      <td>Hanna Ave / Liberty St</td>\n",
       "      <td>Member</td>\n",
       "    </tr>\n",
       "    <tr>\n",
       "      <td>663486</td>\n",
       "      <td>1971683</td>\n",
       "      <td>9/30/2017 23:59</td>\n",
       "      <td>10/1/2017 0:19</td>\n",
       "      <td>1192</td>\n",
       "      <td>Queens Quay W / Lower Simcoe St</td>\n",
       "      <td>Exhibition GO Station</td>\n",
       "      <td>Casual</td>\n",
       "    </tr>\n",
       "    <tr>\n",
       "      <td>663487</td>\n",
       "      <td>1971684</td>\n",
       "      <td>9/30/2017 23:59</td>\n",
       "      <td>10/1/2017 0:19</td>\n",
       "      <td>1190</td>\n",
       "      <td>Queens Quay W / Lower Simcoe St</td>\n",
       "      <td>Exhibition GO Station</td>\n",
       "      <td>Casual</td>\n",
       "    </tr>\n",
       "  </tbody>\n",
       "</table>\n",
       "</div>"
      ],
      "text/plain": [
       "        trip_id  trip_start_time  trip_stop_time  trip_duration_seconds  \\\n",
       "663485  1971682  9/30/2017 23:59  10/1/2017 0:18                   1114   \n",
       "663486  1971683  9/30/2017 23:59  10/1/2017 0:19                   1192   \n",
       "663487  1971684  9/30/2017 23:59  10/1/2017 0:19                   1190   \n",
       "\n",
       "                        from_station_name         to_station_name user_type  \n",
       "663485  Baldwin Ave / Spadina Ave - SMART  Hanna Ave / Liberty St    Member  \n",
       "663486    Queens Quay W / Lower Simcoe St   Exhibition GO Station    Casual  \n",
       "663487    Queens Quay W / Lower Simcoe St   Exhibition GO Station    Casual  "
      ]
     },
     "execution_count": 6,
     "metadata": {},
     "output_type": "execute_result"
    }
   ],
   "source": [
    "q3_2017.tail(3)"
   ]
  },
  {
   "cell_type": "code",
   "execution_count": 7,
   "metadata": {},
   "outputs": [
    {
     "data": {
      "text/html": [
       "<div>\n",
       "<style scoped>\n",
       "    .dataframe tbody tr th:only-of-type {\n",
       "        vertical-align: middle;\n",
       "    }\n",
       "\n",
       "    .dataframe tbody tr th {\n",
       "        vertical-align: top;\n",
       "    }\n",
       "\n",
       "    .dataframe thead th {\n",
       "        text-align: right;\n",
       "    }\n",
       "</style>\n",
       "<table border=\"1\" class=\"dataframe\">\n",
       "  <thead>\n",
       "    <tr style=\"text-align: right;\">\n",
       "      <th></th>\n",
       "      <th>trip_id</th>\n",
       "      <th>trip_start_time</th>\n",
       "      <th>trip_stop_time</th>\n",
       "      <th>trip_duration_seconds</th>\n",
       "      <th>from_station_name</th>\n",
       "      <th>to_station_name</th>\n",
       "      <th>user_type</th>\n",
       "    </tr>\n",
       "  </thead>\n",
       "  <tbody>\n",
       "    <tr>\n",
       "      <td>363402</td>\n",
       "      <td>2383644</td>\n",
       "      <td>12/31/17 23:47:40</td>\n",
       "      <td>12/31/17 23:57:49</td>\n",
       "      <td>609</td>\n",
       "      <td>Kendal Ave / Spadina Rd</td>\n",
       "      <td>Augusta Ave / Denison Sq</td>\n",
       "      <td>Member</td>\n",
       "    </tr>\n",
       "    <tr>\n",
       "      <td>363403</td>\n",
       "      <td>2383645</td>\n",
       "      <td>12/31/17 23:49:08</td>\n",
       "      <td>12/31/17 23:49:34</td>\n",
       "      <td>26</td>\n",
       "      <td>Phoebe St / Spadina Ave</td>\n",
       "      <td>Phoebe St / Spadina Ave</td>\n",
       "      <td>Member</td>\n",
       "    </tr>\n",
       "    <tr>\n",
       "      <td>363404</td>\n",
       "      <td>2383646</td>\n",
       "      <td>12/31/17 23:49:41</td>\n",
       "      <td>12/31/17 23:57:41</td>\n",
       "      <td>480</td>\n",
       "      <td>Phoebe St / Spadina Ave</td>\n",
       "      <td>Simcoe St / Queen St W</td>\n",
       "      <td>Member</td>\n",
       "    </tr>\n",
       "  </tbody>\n",
       "</table>\n",
       "</div>"
      ],
      "text/plain": [
       "        trip_id    trip_start_time     trip_stop_time  trip_duration_seconds  \\\n",
       "363402  2383644  12/31/17 23:47:40  12/31/17 23:57:49                    609   \n",
       "363403  2383645  12/31/17 23:49:08  12/31/17 23:49:34                     26   \n",
       "363404  2383646  12/31/17 23:49:41  12/31/17 23:57:41                    480   \n",
       "\n",
       "              from_station_name           to_station_name user_type  \n",
       "363402  Kendal Ave / Spadina Rd  Augusta Ave / Denison Sq    Member  \n",
       "363403  Phoebe St / Spadina Ave   Phoebe St / Spadina Ave    Member  \n",
       "363404  Phoebe St / Spadina Ave    Simcoe St / Queen St W    Member  "
      ]
     },
     "execution_count": 7,
     "metadata": {},
     "output_type": "execute_result"
    }
   ],
   "source": [
    "q4_2017.tail(3)"
   ]
  },
  {
   "cell_type": "markdown",
   "metadata": {},
   "source": [
    "There were two format changes from H1 2017 to Q3 2017:\n",
    "\n",
    "1. two columns were dropped: from_station_id and to_station_id\n",
    "2. the date format was changed from 'd/m/Y H:M to m/d/Y H:M'\n",
    "\n",
    "From Q3 2017 to Q4 2017 there was another date format change from 'm/d/Y H:M to m/d/y H:M:S'"
   ]
  },
  {
   "cell_type": "code",
   "execution_count": 8,
   "metadata": {},
   "outputs": [],
   "source": [
    "h1_2017 = pd.concat([q1_2017, q2_2017])"
   ]
  },
  {
   "cell_type": "code",
   "execution_count": 9,
   "metadata": {},
   "outputs": [],
   "source": [
    "h1_2017['start_dt_tm'] = pd.to_datetime(h1_2017['trip_start_time'],\n",
    "                                           format='%d/%m/%Y %H:%M')\n",
    "h1_2017['stop_dt_tm'] = pd.to_datetime(h1_2017['trip_stop_time'],\n",
    "                                           format='%d/%m/%Y %H:%M')"
   ]
  },
  {
   "cell_type": "code",
   "execution_count": 10,
   "metadata": {},
   "outputs": [],
   "source": [
    "q3_2017['start_dt_tm'] = pd.to_datetime(q3_2017['trip_start_time'],\n",
    "                                           format='%m/%d/%Y %H:%M')\n",
    "q3_2017['stop_dt_tm'] = pd.to_datetime(q3_2017['trip_stop_time'],\n",
    "                                           format='%m/%d/%Y %H:%M')"
   ]
  },
  {
   "cell_type": "code",
   "execution_count": 11,
   "metadata": {},
   "outputs": [],
   "source": [
    "q4_2017['start_dt_tm'] = pd.to_datetime(q4_2017['trip_start_time'],\n",
    "                                           format='%m/%d/%y %H:%M:%S')"
   ]
  },
  {
   "cell_type": "markdown",
   "metadata": {},
   "source": [
    "The following code produces this error: ValueError: time data 'NULLNULL' does not match format '%m/%d/%y %H:%M:%S' (match)\n",
    "\n",
    "```python\n",
    "q4_2017['stop_dt_tm'] = pd.to_datetime(q4_2017['trip_stop_time'],\n",
    "                                           format='%m/%d/%y %H:%M:%S')\n",
    "```"
   ]
  },
  {
   "cell_type": "code",
   "execution_count": 12,
   "metadata": {},
   "outputs": [],
   "source": [
    "bad_data = q4_2017['trip_stop_time']=='NULLNULL'"
   ]
  },
  {
   "cell_type": "code",
   "execution_count": 13,
   "metadata": {},
   "outputs": [],
   "source": [
    "q4_2017['stop_dt_tm'] = pd.to_datetime(q4_2017.loc[~bad_data, 'trip_stop_time'],\n",
    "                                           format='%m/%d/%y %H:%M:%S')"
   ]
  },
  {
   "cell_type": "code",
   "execution_count": 14,
   "metadata": {},
   "outputs": [
    {
     "data": {
      "text/plain": [
       "1"
      ]
     },
     "execution_count": 14,
     "metadata": {},
     "output_type": "execute_result"
    }
   ],
   "source": [
    "sum(bad_data)"
   ]
  },
  {
   "cell_type": "code",
   "execution_count": 15,
   "metadata": {},
   "outputs": [],
   "source": [
    "# since there's only a single row, let's drop it to keep our lives easy\n",
    "q4_2017 = q4_2017.loc[~bad_data]"
   ]
  },
  {
   "cell_type": "code",
   "execution_count": 16,
   "metadata": {},
   "outputs": [],
   "source": [
    "h2_2017 = pd.concat([q3_2017, q4_2017])"
   ]
  },
  {
   "cell_type": "code",
   "execution_count": 17,
   "metadata": {},
   "outputs": [],
   "source": [
    "h2_2017['from_station_id'] = np.nan\n",
    "h2_2017['to_station_id'] = np.nan"
   ]
  },
  {
   "cell_type": "code",
   "execution_count": 18,
   "metadata": {},
   "outputs": [],
   "source": [
    "total_2017 = pd.concat([h1_2017, h2_2017], sort=True)"
   ]
  },
  {
   "cell_type": "code",
   "execution_count": 29,
   "metadata": {},
   "outputs": [
    {
     "data": {
      "text/plain": [
       "<matplotlib.axes._subplots.AxesSubplot at 0x19aa0631ac8>"
      ]
     },
     "execution_count": 29,
     "metadata": {},
     "output_type": "execute_result"
    },
    {
     "data": {
      "image/png": "[encoded data removed]",
      "text/plain": [
       "<Figure size 432x288 with 1 Axes>"
      ]
     },
     "metadata": {
      "needs_background": "light"
     },
     "output_type": "display_data"
    }
   ],
   "source": [
    "total_2017.start_dt_tm.dt.month.value_counts().sort_index().plot.bar()"
   ]
  },
  {
   "cell_type": "code",
   "execution_count": 30,
   "metadata": {},
   "outputs": [
    {
     "data": {
      "text/plain": [
       "<matplotlib.axes._subplots.AxesSubplot at 0x19aa06b7d88>"
      ]
     },
     "execution_count": 30,
     "metadata": {},
     "output_type": "execute_result"
    },
    {
     "data": {
      "image/png": "[encoded data removed]",
      "text/plain": [
       "<Figure size 432x288 with 1 Axes>"
      ]
     },
     "metadata": {
      "needs_background": "light"
     },
     "output_type": "display_data"
    }
   ],
   "source": [
    "total_2017.start_dt_tm.dt.hour.value_counts().sort_index().plot.bar()"
   ]
  },
  {
   "cell_type": "code",
   "execution_count": 37,
   "metadata": {},
   "outputs": [
    {
     "data": {
      "text/plain": [
       "<matplotlib.axes._subplots.AxesSubplot at 0x19ac0290a48>"
      ]
     },
     "execution_count": 37,
     "metadata": {},
     "output_type": "execute_result"
    },
    {
     "data": {
      "image/png": "[encoded data removed]",
      "text/plain": [
       "<Figure size 432x288 with 1 Axes>"
      ]
     },
     "metadata": {
      "needs_background": "light"
     },
     "output_type": "display_data"
    }
   ],
   "source": [
    "total_2017.start_dt_tm.dt.weekday.value_counts().sort_index().plot.bar()"
   ]
  },
  {
   "cell_type": "code",
   "execution_count": 43,
   "metadata": {},
   "outputs": [],
   "source": [
    "rides_by_dow_hour = pd.pivot_table(total_2017,\n",
    "                       index=[total_2017.start_dt_tm.dt.hour],\n",
    "                       columns=[total_2017.start_dt_tm.dt.weekday],\n",
    "                       aggfunc='size')"
   ]
  },
  {
   "cell_type": "code",
   "execution_count": 44,
   "metadata": {},
   "outputs": [
    {
     "data": {
      "text/plain": [
       "<matplotlib.axes._subplots.AxesSubplot at 0x19ac0033cc8>"
      ]
     },
     "execution_count": 44,
     "metadata": {},
     "output_type": "execute_result"
    },
    {
     "data": {
      "image/png": "[encoded data removed]",
      "text/plain": [
       "<Figure size 432x288 with 1 Axes>"
      ]
     },
     "metadata": {
      "needs_background": "light"
     },
     "output_type": "display_data"
    }
   ],
   "source": [
    "rides_by_dow_hour.plot()"
   ]
  },
  {
   "cell_type": "code",
   "execution_count": 45,
   "metadata": {},
   "outputs": [],
   "source": [
    "time_by_dow_hour = pd.pivot_table(total_2017, values='trip_duration_seconds',\n",
    "                       index=[total_2017.start_dt_tm.dt.hour],\n",
    "                       columns=[total_2017.start_dt_tm.dt.weekday],\n",
    "                       aggfunc=np.sum)"
   ]
  },
  {
   "cell_type": "code",
   "execution_count": 46,
   "metadata": {},
   "outputs": [
    {
     "data": {
      "text/plain": [
       "<matplotlib.axes._subplots.AxesSubplot at 0x19ab2ebed08>"
      ]
     },
     "execution_count": 46,
     "metadata": {},
     "output_type": "execute_result"
    },
    {
     "data": {
      "image/png": "[encoded data removed]",
      "text/plain": [
       "<Figure size 432x288 with 1 Axes>"
      ]
     },
     "metadata": {
      "needs_background": "light"
     },
     "output_type": "display_data"
    }
   ],
   "source": [
    "time_by_dow_hour.plot()"
   ]
  },
  {
   "cell_type": "code",
   "execution_count": 47,
   "metadata": {},
   "outputs": [
    {
     "data": {
      "text/plain": [
       "Union Station                              29228\n",
       "Simcoe St / Wellington St W                22809\n",
       "York St / Queens Quay W                    20768\n",
       "King St W / Spadina Ave                    19521\n",
       "Queen St W / Portland St                   17872\n",
       "Bay St / College St (East Side)            17100\n",
       "Phoebe St / Spadina Ave                    16093\n",
       "Front St W / Blue Jays Way                 16075\n",
       "Bay St / Queens Quay W (Ferry Terminal)    16029\n",
       "Bay St / Albert St                         15780\n",
       "Name: to_station_name, dtype: int64"
      ]
     },
     "execution_count": 47,
     "metadata": {},
     "output_type": "execute_result"
    }
   ],
   "source": [
    "total_2017.to_station_name.value_counts().head(10)"
   ]
  },
  {
   "cell_type": "code",
   "execution_count": 48,
   "metadata": {},
   "outputs": [
    {
     "data": {
      "text/plain": [
       "Union Station                      22143\n",
       "Simcoe St / Wellington St W        21365\n",
       "York St / Queens Quay W            19143\n",
       "Bay St / Wellesley St W            18082\n",
       "King St W / Spadina Ave            18039\n",
       "Bay St / College St (East Side)    17381\n",
       "Queen St W / Portland St           17295\n",
       "Front St W / Blue Jays Way         16173\n",
       "Simcoe St / Queen St W             15234\n",
       "College Park South                 15187\n",
       "Name: from_station_name, dtype: int64"
      ]
     },
     "execution_count": 48,
     "metadata": {},
     "output_type": "execute_result"
    }
   ],
   "source": [
    "total_2017.from_station_name.value_counts().head(10)"
   ]
  },
  {
   "cell_type": "code",
   "execution_count": 32,
   "metadata": {},
   "outputs": [
    {
     "data": {
      "text/plain": [
       "Member    1164784\n",
       "Casual     327585\n",
       "Name: user_type, dtype: int64"
      ]
     },
     "execution_count": 32,
     "metadata": {},
     "output_type": "execute_result"
    }
   ],
   "source": [
    "total_2017.user_type.value_counts()"
   ]
  },
  {
   "cell_type": "code",
   "execution_count": null,
   "metadata": {},
   "outputs": [],
   "source": []
  }
 ],
 "metadata": {
  "kernelspec": {
   "display_name": "Python 3",
   "language": "python",
   "name": "python3"
  },
  "language_info": {
   "codemirror_mode": {
    "name": "ipython",
    "version": 3
   },
   "file_extension": ".py",
   "mimetype": "text/x-python",
   "name": "python",
   "nbconvert_exporter": "python",
   "pygments_lexer": "ipython3",
   "version": "3.7.4"
  }
 },
 "nbformat": 4,
 "nbformat_minor": 4
}
